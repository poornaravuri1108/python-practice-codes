{
 "cells": [
  {
   "cell_type": "markdown",
   "metadata": {},
   "source": [
    "#### To check if the character is a special symbol or not"
   ]
  },
  {
   "cell_type": "code",
   "execution_count": 4,
   "metadata": {},
   "outputs": [
    {
     "name": "stdout",
     "output_type": "stream",
     "text": [
      "enter the char: poorna\n",
      "it is not a special symbol\n"
     ]
    }
   ],
   "source": [
    "ch=input('enter the char: ')\n",
    "if 'a'<=ch<='z' or 'A'<=ch<='Z' or '0'<=ch<='9':\n",
    "    print(\"it is not a special symbol\")\n",
    "else:\n",
    "    print('it is a special symbol')\n",
    "    \n"
   ]
  },
  {
   "cell_type": "markdown",
   "metadata": {},
   "source": [
    "#### To check whether both the variables are pointing to same location"
   ]
  },
  {
   "cell_type": "code",
   "execution_count": 8,
   "metadata": {},
   "outputs": [
    {
     "name": "stdout",
     "output_type": "stream",
     "text": [
      "enter the value: 5\n",
      "enter the value: 10\n",
      "not pointing towards memory location\n"
     ]
    }
   ],
   "source": [
    "var1=int(input(\"enter the value: \"))\n",
    "var2=int(input(\"enter the value: \"))\n",
    "if var1 is var2:\n",
    "    print(\"it is pointing towards same memory location\")\n",
    "else:\n",
    "    print(\"not pointing towards memory location\")"
   ]
  },
  {
   "cell_type": "code",
   "execution_count": 9,
   "metadata": {},
   "outputs": [
    {
     "name": "stdout",
     "output_type": "stream",
     "text": [
      "enter the value: 5\n",
      "enter the value: 10\n",
      "not pointing towards same memory location\n"
     ]
    }
   ],
   "source": [
    "var1=int(input(\"enter the value: \"))\n",
    "var2=int(input(\"enter the value: \"))\n",
    "if id(var1)==id(var2):\n",
    "    print(\"pointing towards same memory location\")\n",
    "else:\n",
    "    print(\"not pointing towards same memory location\")"
   ]
  },
  {
   "cell_type": "markdown",
   "metadata": {},
   "source": [
    "#### To convert alphabet upper case char to lower and if the given char is lower let it be and print the char"
   ]
  },
  {
   "cell_type": "code",
   "execution_count": 10,
   "metadata": {},
   "outputs": [
    {
     "name": "stdout",
     "output_type": "stream",
     "text": [
      "enter the char: P\n",
      "the giver char is upper and it has to be converted to lower\n",
      "p\n"
     ]
    }
   ],
   "source": [
    "ch=input(\"enter the char: \")\n",
    "if 'A'<=ch<='Z':\n",
    "    print(\"the giver char is upper and it has to be converted to lower\")\n",
    "    print(chr(ord(ch)+32))\n",
    "else:\n",
    "    print(ch)\n",
    "    print(\"the given char is lower\")"
   ]
  },
  {
   "cell_type": "markdown",
   "metadata": {},
   "source": [
    "####  to check the number is multiple of 3 and 7"
   ]
  },
  {
   "cell_type": "code",
   "execution_count": 12,
   "metadata": {},
   "outputs": [
    {
     "name": "stdout",
     "output_type": "stream",
     "text": [
      "Enter the number: 40\n",
      "not multiple of 3 and 7\n"
     ]
    }
   ],
   "source": [
    "n=int(input(\"Enter the number: \"))\n",
    "if n%3==0 and n%7==0:\n",
    "    print(\"the number is multiple of 3 and 7\")\n",
    "else:\n",
    "    print(\"not multiple of 3 and 7\")"
   ]
  },
  {
   "cell_type": "markdown",
   "metadata": {},
   "source": [
    "#### to check the relation between numbers"
   ]
  },
  {
   "cell_type": "code",
   "execution_count": 13,
   "metadata": {},
   "outputs": [
    {
     "name": "stdout",
     "output_type": "stream",
     "text": [
      "enter the value: 10\n",
      "enter the value: 5\n",
      "n1 is greater than n2\n"
     ]
    }
   ],
   "source": [
    "n1=int(input(\"enter the value: \"))\n",
    "n2=int(input(\"enter the value: \"))\n",
    "if n1>n2:\n",
    "    print(\"n1 is greater than n2\")\n",
    "elif n1<n2:\n",
    "    print(\"n1 is smaller than n2\")\n",
    "else:\n",
    "    print(\"both the numbers are equal\")"
   ]
  },
  {
   "cell_type": "markdown",
   "metadata": {},
   "source": [
    "####  to check greater among the three numbers\n"
   ]
  },
  {
   "cell_type": "code",
   "execution_count": 17,
   "metadata": {},
   "outputs": [
    {
     "name": "stdout",
     "output_type": "stream",
     "text": [
      "enter the value: 10\n",
      "enter the value: 15\n",
      "enter the value: 9\n",
      "b is greater\n",
      "15\n"
     ]
    }
   ],
   "source": [
    "a=int(input(\"enter the value: \"))\n",
    "b=int(input(\"enter the value: \"))\n",
    "c=int(input(\"enter the value: \"))\n",
    "if a>b and a>c:\n",
    "    print(\"a is greater\")\n",
    "    print(a)\n",
    "elif b>c :\n",
    "    print(\"b is greater\")\n",
    "    print(b)\n",
    "else:\n",
    "    print(\"c is greater\")\n",
    "    print(c)"
   ]
  },
  {
   "cell_type": "markdown",
   "metadata": {},
   "source": [
    "#### to check the type of character"
   ]
  },
  {
   "cell_type": "code",
   "execution_count": 21,
   "metadata": {},
   "outputs": [
    {
     "name": "stdout",
     "output_type": "stream",
     "text": [
      "enter the character: @\n",
      "the char is a special symbol: @\n"
     ]
    }
   ],
   "source": [
    "ch=input(\"enter the character: \")\n",
    "if 'a'<=ch<='z':\n",
    "    print(\"the char is lower case char: \"+ch)\n",
    "elif 'A'<=ch<='Z':\n",
    "    print(\"the char is upper case char: \"+ch)\n",
    "elif '0'<=ch<='9':\n",
    "    print(\"the char is a number: \"+ch)\n",
    "else:\n",
    "    print('the char is a special symbol: '+ch)"
   ]
  },
  {
   "cell_type": "markdown",
   "metadata": {},
   "source": [
    "#### to check whether the given number is single or double or triple digit number"
   ]
  },
  {
   "cell_type": "code",
   "execution_count": 1,
   "metadata": {},
   "outputs": [
    {
     "name": "stdout",
     "output_type": "stream",
     "text": [
      "enter the number: 44\n",
      "the number is double digit number\n"
     ]
    }
   ],
   "source": [
    "n=int(input(\"enter the number: \"))\n",
    "if 0<n<=9:\n",
    "    print('the number is a single digit number')\n",
    "elif 10<=n<=99:\n",
    "    print('the number is double digit number')\n",
    "elif 100<=n<=999:\n",
    "    print('the number is triple digit number')\n",
    "else:\n",
    "    print('it more than triple digit number')"
   ]
  },
  {
   "cell_type": "markdown",
   "metadata": {},
   "source": [
    "####  to check whether the num is even and multiple of 9"
   ]
  },
  {
   "cell_type": "code",
   "execution_count": 3,
   "metadata": {},
   "outputs": [
    {
     "name": "stdout",
     "output_type": "stream",
     "text": [
      "enter the number: 55\n",
      "number is not even and also not multiple of 9\n"
     ]
    }
   ],
   "source": [
    "n=int(input('enter the number: '))\n",
    "if n%2==0:\n",
    "    if n%9==0:\n",
    "        print('the number is even and multiple of 9')\n",
    "    else:\n",
    "        print('the number is even but not multiple of 9')\n",
    "else:\n",
    "    print(\"number is not even and also not multiple of 9\")"
   ]
  },
  {
   "cell_type": "markdown",
   "metadata": {},
   "source": [
    "#### to check the greater among three numbers using nested-if statement "
   ]
  },
  {
   "cell_type": "code",
   "execution_count": 5,
   "metadata": {},
   "outputs": [
    {
     "name": "stdout",
     "output_type": "stream",
     "text": [
      "15\n",
      "111\n",
      "13\n",
      "n2 great\n"
     ]
    }
   ],
   "source": [
    "n1=int(input('enter n1: '))\n",
    "n2=int(input('enter n2: '))\n",
    "n3=int(input('enter n3: '))\n",
    "if n1>n2:\n",
    "    if n1>n3:\n",
    "        print('n1 greater')\n",
    "if n2>n1:\n",
    "    if n2>n3:\n",
    "        print('n2 greater')\n",
    "if n3>n1:\n",
    "    if n3>n2:\n",
    "        print('n3 greater')"
   ]
  },
  {
   "cell_type": "markdown",
   "metadata": {},
   "source": [
    "#### find the 2nd smaller among 3 numbers using elif statement"
   ]
  },
  {
   "cell_type": "code",
   "execution_count": 7,
   "metadata": {},
   "outputs": [
    {
     "name": "stdout",
     "output_type": "stream",
     "text": [
      "b is 2nd smaller\n"
     ]
    }
   ],
   "source": [
    "a,b,c=10,20,30\n",
    "if a<b and a<c:\n",
    "    if b<c:\n",
    "        print('b is 2nd smaller')\n",
    "    else:\n",
    "        print('c is 2nd smaller')\n",
    "elif b<c:\n",
    "    if a<c:\n",
    "        print('a is 2nd smaller')\n",
    "    else:\n",
    "        print('c is 2nd smaller')\n",
    "else:\n",
    "    if a<b:\n",
    "        print('a is 2nd smaller')\n",
    "    else:\n",
    "        print('b is 2nd smaller')\n",
    "        "
   ]
  },
  {
   "cell_type": "markdown",
   "metadata": {},
   "source": [
    "#### to display the multiplication table of 2"
   ]
  },
  {
   "cell_type": "code",
   "execution_count": 13,
   "metadata": {},
   "outputs": [
    {
     "name": "stdout",
     "output_type": "stream",
     "text": [
      "2 * 1 = 2\n",
      "2 * 2 = 4\n",
      "2 * 3 = 6\n",
      "2 * 4 = 8\n",
      "2 * 5 = 10\n",
      "2 * 6 = 12\n",
      "2 * 7 = 14\n",
      "2 * 8 = 16\n",
      "2 * 9 = 18\n",
      "2 * 10 = 20\n"
     ]
    }
   ],
   "source": [
    "n=2\n",
    "a=1\n",
    "while a<=10:\n",
    "    b=n*a\n",
    "    print(n,'*',a,'=',b)\n",
    "    a=a+1"
   ]
  },
  {
   "cell_type": "markdown",
   "metadata": {},
   "source": [
    "#### to extract the vowels present in a given string"
   ]
  },
  {
   "cell_type": "code",
   "execution_count": 15,
   "metadata": {},
   "outputs": [
    {
     "name": "stdout",
     "output_type": "stream",
     "text": [
      "enter the string: poorna\n",
      "o\n",
      "o\n",
      "a\n"
     ]
    }
   ],
   "source": [
    "s=input('enter the string: ')\n",
    "i=0\n",
    "while i<len(s):\n",
    "    if s[i] in 'AEIOUaeiou':\n",
    "        print(s[i])\n",
    "    i+=1"
   ]
  },
  {
   "cell_type": "markdown",
   "metadata": {},
   "source": [
    "#### display the even numbers between 0 to 50"
   ]
  },
  {
   "cell_type": "code",
   "execution_count": 18,
   "metadata": {},
   "outputs": [
    {
     "name": "stdout",
     "output_type": "stream",
     "text": [
      "0\n",
      "2\n",
      "4\n",
      "6\n",
      "8\n",
      "10\n",
      "12\n",
      "14\n",
      "16\n",
      "18\n",
      "20\n",
      "22\n",
      "24\n",
      "26\n",
      "28\n",
      "30\n",
      "32\n",
      "34\n",
      "36\n",
      "38\n",
      "40\n",
      "42\n",
      "44\n",
      "46\n",
      "48\n",
      "50\n"
     ]
    }
   ],
   "source": [
    "i=0\n",
    "while i<=50:\n",
    "    if i%2==0:\n",
    "        print(i)\n",
    "    i+=1"
   ]
  },
  {
   "cell_type": "markdown",
   "metadata": {},
   "source": [
    "#### print the characters present at even index as a string"
   ]
  },
  {
   "cell_type": "code",
   "execution_count": 23,
   "metadata": {},
   "outputs": [
    {
     "name": "stdout",
     "output_type": "stream",
     "text": [
      "enter the string: hello mohij\n",
      "h\n",
      "l\n",
      "o\n",
      "m\n",
      "h\n",
      "j\n",
      "hlomhj\n"
     ]
    }
   ],
   "source": [
    "s=input('enter the string: ')\n",
    "i=0\n",
    "res=''\n",
    "while i<len(s):\n",
    "    if i%2==0:\n",
    "        print(s[i])\n",
    "        res+=s[i]\n",
    "    i=i+1\n",
    "print(res)"
   ]
  },
  {
   "cell_type": "markdown",
   "metadata": {},
   "source": [
    "#### print the even numbers present in a list in another list "
   ]
  },
  {
   "cell_type": "code",
   "execution_count": 26,
   "metadata": {},
   "outputs": [
    {
     "name": "stdout",
     "output_type": "stream",
     "text": [
      "[0, 2, 4, 6, 8]\n"
     ]
    }
   ],
   "source": [
    "ls=[0,1,2,3,4,5,6,7,8,9]\n",
    "ls1=[]\n",
    "len(ls)\n",
    "i=0\n",
    "while i<len(ls):\n",
    "    if ls[i]%2==0:\n",
    "        ls1.append(ls[i])\n",
    "        #instead of using append we can also use this:     ls1 += [ls[i]]    here we are giving the even integer as a list item so that we can concatenate that with empty list\n",
    "    i+=1\n",
    "print(ls1)"
   ]
  },
  {
   "cell_type": "code",
   "execution_count": 28,
   "metadata": {},
   "outputs": [
    {
     "name": "stdout",
     "output_type": "stream",
     "text": [
      "enter the input string: POORna\n",
      "n\n",
      "a\n",
      "na\n"
     ]
    }
   ],
   "source": [
    "s=input('enter the input string: ')\n",
    "a='abcdefghijklmnopqrstuvwxyz'\n",
    "i=0\n",
    "st=''\n",
    "while i<len(s):\n",
    "    if s[i] in a:\n",
    "        print(s[i])\n",
    "        st += s[i]\n",
    "    i += 1\n",
    "print(st)"
   ]
  },
  {
   "cell_type": "code",
   "execution_count": 48,
   "metadata": {},
   "outputs": [
    {
     "name": "stdout",
     "output_type": "stream",
     "text": [
      "enter the string: PoOrNa\n",
      "pOoRnA\n",
      "pOoRnA\n"
     ]
    }
   ],
   "source": [
    "s=input('enter the string: ')\n",
    "s1=''\n",
    "s2=''\n",
    "for i in s:\n",
    "    if i.isupper():\n",
    "        i=i.lower()\n",
    "        s1 += i\n",
    "    elif i.islower():\n",
    "        i=i.upper()\n",
    "        s1 += i\n",
    "print(s1)\n",
    "\n",
    "for j in s:\n",
    "    if j.islower():\n",
    "        j=j.upper()\n",
    "        s2 += j\n",
    "    elif j.isupper():\n",
    "        j=j.lower()\n",
    "        s2 += j\n",
    "print(s2)\n",
    "\n",
    "\n",
    "    \n",
    "    "
   ]
  },
  {
   "cell_type": "code",
   "execution_count": 53,
   "metadata": {},
   "outputs": [
    {
     "name": "stdout",
     "output_type": "stream",
     "text": [
      "enter the input string: poorna chandra\n",
      "poorna@chandra\n"
     ]
    }
   ],
   "source": [
    "s=input('enter the input string: ')\n",
    "s2=''\n",
    "for i in s:\n",
    "    if i==' ':\n",
    "        s2 += '@'\n",
    "    else:\n",
    "        s2 += i\n",
    "print(s2)\n",
    "        "
   ]
  },
  {
   "cell_type": "code",
   "execution_count": 58,
   "metadata": {},
   "outputs": [
    {
     "name": "stdout",
     "output_type": "stream",
     "text": [
      "enter the input string: hi hello how are you\n",
      "hi\n",
      "hello\n",
      "how\n",
      "are\n",
      "you\n",
      "['hi ', ' how are you']\n"
     ]
    }
   ],
   "source": [
    "s=input('enter the input string: ')\n",
    "s1='hello'\n",
    "s2=s.split()\n",
    "for i in s2:\n",
    "    print(i)\n",
    "    if i==s1:\n",
    "        s3=s.split(s1)\n",
    "print(s3)"
   ]
  },
  {
   "cell_type": "markdown",
   "metadata": {},
   "source": [
    "#### split function working"
   ]
  },
  {
   "cell_type": "code",
   "execution_count": 5,
   "metadata": {},
   "outputs": [
    {
     "data": {
      "text/plain": [
       "['hai', 'hello how are you']"
      ]
     },
     "execution_count": 5,
     "metadata": {},
     "output_type": "execute_result"
    }
   ],
   "source": [
    "string='hai hello how are you'\n",
    "res=string.split()\n",
    "res\n",
    "res1=string.split('a')\n",
    "res1\n",
    "res2=string.split(' ',1)\n",
    "res2"
   ]
  },
  {
   "cell_type": "markdown",
   "metadata": {},
   "source": [
    "#### splitting the function without using split function"
   ]
  },
  {
   "cell_type": "code",
   "execution_count": 9,
   "metadata": {},
   "outputs": [
    {
     "name": "stdout",
     "output_type": "stream",
     "text": [
      "[' hi', ' hello', ' how', ' are', ' you']\n",
      "enter the string: Hello Poorna How is it going\n",
      "[' Hello', ' Poorna', ' How', ' is', ' it', ' going']\n"
     ]
    }
   ],
   "source": [
    "st='hi hello how are you'\n",
    "ch=' '\n",
    "res=[' ']\n",
    "for i in st:\n",
    "    if i==ch:\n",
    "        res.append(\" \")\n",
    "    else:\n",
    "        res[-1] += i\n",
    "print(res)\n",
    "\n",
    "st1=input(\"enter the string: \")\n",
    "res1=[' ']\n",
    "for i in st1:\n",
    "    if i==ch:\n",
    "        res1.append(\" \")\n",
    "    else:\n",
    "        res1[-1] += i\n",
    "print(res1)"
   ]
  },
  {
   "cell_type": "markdown",
   "metadata": {},
   "source": [
    "#### split the function if certain character is found"
   ]
  },
  {
   "cell_type": "code",
   "execution_count": 10,
   "metadata": {},
   "outputs": [
    {
     "name": "stdout",
     "output_type": "stream",
     "text": [
      "[' hi hell', '  h', ' w are y', ' u']\n"
     ]
    }
   ],
   "source": [
    "a=\"hi hello how are you\"\n",
    "ch='o'\n",
    "res=[\" \"]\n",
    "for i in a:\n",
    "    if i==ch:\n",
    "        res.append(\" \")\n",
    "    else:\n",
    "        res[-1] += i\n",
    "print(res)"
   ]
  },
  {
   "cell_type": "markdown",
   "metadata": {},
   "source": [
    "#### split the string if certain charater is found for the specified number of times"
   ]
  },
  {
   "cell_type": "code",
   "execution_count": 17,
   "metadata": {},
   "outputs": [
    {
     "name": "stdout",
     "output_type": "stream",
     "text": [
      "[' hi h', ' w are y', ' u']\n"
     ]
    }
   ],
   "source": [
    "st='hi how are you'\n",
    "ch='o'\n",
    "res=[' ']\n",
    "for i in st:\n",
    "    if i==ch and len(res)<=2:\n",
    "        res.append(' ')\n",
    "        \n",
    "    else:\n",
    "        res[-1] += i\n",
    "\n",
    "print(res)\n",
    "   "
   ]
  },
  {
   "cell_type": "markdown",
   "metadata": {},
   "source": [
    "#### join operation without using join function and later using join function"
   ]
  },
  {
   "cell_type": "code",
   "execution_count": 25,
   "metadata": {},
   "outputs": [
    {
     "name": "stdout",
     "output_type": "stream",
     "text": [
      "the joined collection is :  hi hello how are you\n",
      "the joined collection using join function is : \n",
      "hi@hello@how@are@you\n"
     ]
    }
   ],
   "source": [
    "st='hi hello how are you'\n",
    "res=st.split()\n",
    "r=' '\n",
    "for i in range(0,len(res)):\n",
    "    if i==0:\n",
    "        r += res[i]\n",
    "    else:\n",
    "        r +=' '+ res[i]\n",
    "print('the joined collection is :',r)\n",
    "\n",
    "res1='@'.join(res)\n",
    "print(\"the joined collection using join function is : \")\n",
    "print(res1)"
   ]
  },
  {
   "cell_type": "markdown",
   "metadata": {},
   "source": [
    "#### range function operation"
   ]
  },
  {
   "cell_type": "code",
   "execution_count": 28,
   "metadata": {},
   "outputs": [
    {
     "name": "stdout",
     "output_type": "stream",
     "text": [
      "1\n",
      "2\n",
      "3\n",
      "4\n",
      "5\n",
      "6\n",
      "7\n",
      "8\n",
      "9\n"
     ]
    }
   ],
   "source": [
    "for i in range(1,10):\n",
    "    print(i)"
   ]
  },
  {
   "cell_type": "markdown",
   "metadata": {},
   "source": [
    "#### Reversing a string"
   ]
  },
  {
   "cell_type": "code",
   "execution_count": 36,
   "metadata": {},
   "outputs": [
    {
     "name": "stdout",
     "output_type": "stream",
     "text": [
      "you are how hello hi\n",
      "enter the string: How you doing\n",
      "doing you How\n"
     ]
    }
   ],
   "source": [
    "st='hi hello how are you'\n",
    "out=(st.split())[ : : -1]\n",
    "res=' '.join(out)\n",
    "print(res)\n",
    "\n",
    "st1=input('enter the string: ')\n",
    "print(' '.join((st1.split())[ : : -1]))"
   ]
  },
  {
   "cell_type": "markdown",
   "metadata": {},
   "source": [
    "#### Reversing the each word of the string"
   ]
  },
  {
   "cell_type": "code",
   "execution_count": 41,
   "metadata": {},
   "outputs": [
    {
     "name": "stdout",
     "output_type": "stream",
     "text": [
      "['iah', 'olleh', 'woh', 'era', 'uoy']\n"
     ]
    },
    {
     "data": {
      "text/plain": [
       "'iah olleh woh era uoy'"
      ]
     },
     "execution_count": 41,
     "metadata": {},
     "output_type": "execute_result"
    }
   ],
   "source": [
    "st='hai hello how are you'\n",
    "res=st.split()\n",
    "res1=[ ]\n",
    "for i in res:\n",
    "    res1.append(i[: : -1])\n",
    "print(res1)\n",
    "' '.join(res1)"
   ]
  },
  {
   "cell_type": "markdown",
   "metadata": {},
   "source": [
    "#### we have bunnies standing in a line numbered 1,2,...n. the odd bunnies (1,3,5,..) have normal ears and the bunnies in even places have 3 ears. find the total number of ears for the given number of bunnies"
   ]
  },
  {
   "cell_type": "code",
   "execution_count": 46,
   "metadata": {},
   "outputs": [
    {
     "name": "stdout",
     "output_type": "stream",
     "text": [
      "enter the number of bunnies: 10\n",
      "25\n"
     ]
    }
   ],
   "source": [
    "e=0\n",
    "o=0\n",
    "n=int(input(\"enter the number of bunnies: \"))\n",
    "for i in range(1,n+1):\n",
    "    if i%2==0:\n",
    "        e +=3\n",
    "    else:\n",
    "        o +=2\n",
    "print(e+o)"
   ]
  },
  {
   "cell_type": "markdown",
   "metadata": {},
   "source": [
    "#### we have traingle made up of blocks, the top most row has 1 block, the row down has two blocks, the nect has 3 blocks and so on.. determine the total number of blocks in a triangle with n rows"
   ]
  },
  {
   "cell_type": "code",
   "execution_count": 48,
   "metadata": {},
   "outputs": [
    {
     "name": "stdout",
     "output_type": "stream",
     "text": [
      "enter the number of blocks: 10\n",
      "55\n"
     ]
    }
   ],
   "source": [
    "n=int(input(\"enter the number of blocks: \"))\n",
    "sum=0\n",
    "for i in range(1,n+1):\n",
    "    sum=sum+i\n",
    "print(sum)    "
   ]
  },
  {
   "cell_type": "markdown",
   "metadata": {},
   "source": [
    "#### the parameter is true , if it is a weekday and the parameter vacation is true if we are on vacation we sleepin if it is not a weekday or we are on a vacation. display True when we sleep in else display false"
   ]
  },
  {
   "cell_type": "code",
   "execution_count": 54,
   "metadata": {},
   "outputs": [
    {
     "name": "stdout",
     "output_type": "stream",
     "text": [
      "sleepin\n"
     ]
    }
   ],
   "source": [
    "weekday=False\n",
    "vacation=False\n",
    "if weekday==False or vacation==True:\n",
    "    print('sleepin')\n",
    "else:\n",
    "    print(\"don't sleep\")"
   ]
  },
  {
   "cell_type": "markdown",
   "metadata": {},
   "source": [
    "#### you are driving fast and a police officer stops you. write a code to determine the following result encoder int val.\n",
    "#### 0=no ticket\n",
    "#### 1=small ticket\n",
    "#### 2=big ticket\n",
    "#### if the speed is 60 or less display 0. if the speed is between 61 and 80 display 1 and if the speed is more than 81 or equal to display 2. unless it is your birthday, on that day speed can be 5 higher in all the cases"
   ]
  },
  {
   "cell_type": "code",
   "execution_count": 59,
   "metadata": {},
   "outputs": [
    {
     "name": "stdout",
     "output_type": "stream",
     "text": [
      "enter the speed: 84\n",
      "enter 1 if it is your birthday else 0: True\n",
      "1\n"
     ]
    }
   ],
   "source": [
    "n=int(input('enter the speed: '))\n",
    "birthday=bool(input('enter if its birthday or not: '))\n",
    "if n<=60 and birthday==False:\n",
    "    print(0)\n",
    "elif n<=65 and birthday==True:\n",
    "    print(0)\n",
    "elif 61<=n<=80 and birthday==False:\n",
    "    print(1)\n",
    "elif 66<=n<=85 and birthday==True:\n",
    "    print(1)\n",
    "elif n>=81 and birthday==False:\n",
    "    print(2)\n",
    "elif n>=86 and birthday==True:\n",
    "    print(2)"
   ]
  },
  {
   "cell_type": "markdown",
   "metadata": {},
   "source": [
    "####  to check if the number is prime"
   ]
  },
  {
   "cell_type": "code",
   "execution_count": 7,
   "metadata": {},
   "outputs": [
    {
     "name": "stdout",
     "output_type": "stream",
     "text": [
      "enter the number: 80\n",
      "not a prime number\n"
     ]
    }
   ],
   "source": [
    "def is_prime(n):\n",
    "    for i in range(2,n):\n",
    "        if n%i==0:\n",
    "            return False\n",
    "    return True\n",
    "n=int(input('enter the number: '))\n",
    "if is_prime(n)==True:\n",
    "    print('number is prime')\n",
    "else:\n",
    "    print('not a prime number')"
   ]
  },
  {
   "cell_type": "markdown",
   "metadata": {},
   "source": [
    "#### to print the series of prime numbers between the range m to n"
   ]
  },
  {
   "cell_type": "code",
   "execution_count": 13,
   "metadata": {},
   "outputs": [
    {
     "name": "stdout",
     "output_type": "stream",
     "text": [
      "enter the starting number: 10\n",
      "enter the ending number: 29\n",
      "11\n",
      "13\n",
      "17\n",
      "19\n",
      "23\n",
      "29\n"
     ]
    }
   ],
   "source": [
    "m=int(input('enter the starting number: '))\n",
    "n=int(input('enter the ending number: '))\n",
    "def is_prime(n):\n",
    "    for i in range(2,n):\n",
    "        if n%i==0:\n",
    "            return False\n",
    "    return True\n",
    "for i in range(m,n+1):\n",
    "    if is_prime(i)==True:\n",
    "        print(i)\n",
    "       \n",
    "        "
   ]
  },
  {
   "cell_type": "markdown",
   "metadata": {},
   "source": [
    "#### to find if the given number is a perfect number. number is called perfect if sum of all the factors of the number is equal to the number itself"
   ]
  },
  {
   "cell_type": "code",
   "execution_count": 19,
   "metadata": {},
   "outputs": [
    {
     "name": "stdout",
     "output_type": "stream",
     "text": [
      "enter the number: 496\n",
      "1\n",
      "2\n",
      "4\n",
      "8\n",
      "16\n",
      "31\n",
      "62\n",
      "124\n",
      "248\n",
      "number is perfect\n"
     ]
    }
   ],
   "source": [
    "n=int(input('enter the number: '))\n",
    "sum=0\n",
    "for i in range(1,n):\n",
    "    if n%i==0:\n",
    "        print(i)\n",
    "        sum=sum+i\n",
    "if sum==n:\n",
    "    print('number is perfect')\n",
    "else:\n",
    "    print('number is not perfect')"
   ]
  },
  {
   "cell_type": "markdown",
   "metadata": {},
   "source": [
    "#### to print the perfect numbers in a given range"
   ]
  },
  {
   "cell_type": "code",
   "execution_count": 37,
   "metadata": {},
   "outputs": [
    {
     "name": "stdout",
     "output_type": "stream",
     "text": [
      "enter n: 1000\n",
      "enter m: 1\n",
      "6\n",
      "28\n",
      "496\n"
     ]
    }
   ],
   "source": [
    "def is_perfect(n):\n",
    "    sum=0\n",
    "    for i in range(1,n):\n",
    "        if n%i==0:\n",
    "            sum=sum+i\n",
    "    if n==sum:\n",
    "        return True\n",
    "    return False\n",
    "n=int(input('enter n: '))\n",
    "m=int(input('enter m: '))\n",
    "for i  in range(m,n+1):\n",
    "    if is_perfect(i)==True:\n",
    "        print(i)"
   ]
  },
  {
   "cell_type": "markdown",
   "metadata": {},
   "source": [
    "#### WAP to check whether the given number is pefect factorial or not"
   ]
  },
  {
   "cell_type": "code",
   "execution_count": 46,
   "metadata": {},
   "outputs": [
    {
     "name": "stdout",
     "output_type": "stream",
     "text": [
      "entet the number: 120\n",
      "perfect factorial number\n"
     ]
    }
   ],
   "source": [
    "def is_perfactorial(n):\n",
    "    num=1\n",
    "    i=1\n",
    "    while num<n:\n",
    "        num *= i\n",
    "        i +=1\n",
    "    if num==n:\n",
    "        return True\n",
    "    return False\n",
    "n=int(input('entet the number: '))\n",
    "if is_perfactorial(n)==True:\n",
    "    print('perfect factorial number')\n",
    "else:\n",
    "    print('not perfect factorial number')\n",
    "        "
   ]
  },
  {
   "cell_type": "markdown",
   "metadata": {},
   "source": [
    "#### program to print the perfect factorial numbers in a given range"
   ]
  },
  {
   "cell_type": "code",
   "execution_count": 49,
   "metadata": {},
   "outputs": [
    {
     "name": "stdout",
     "output_type": "stream",
     "text": [
      "enter m: 1\n",
      "entet n: 10000\n",
      "1\n",
      "2\n",
      "6\n",
      "24\n",
      "120\n",
      "720\n",
      "5040\n"
     ]
    }
   ],
   "source": [
    "def is_perfactorial(n):\n",
    "    num=1\n",
    "    i=1\n",
    "    while num<n:\n",
    "        num *= i\n",
    "        i +=1\n",
    "    if num==n:\n",
    "        return True\n",
    "    return False\n",
    "m=int(input('enter m: '))\n",
    "n=int(input('entet n: '))\n",
    "for i in range(m,n+1):\n",
    "    if is_perfactorial(i)==True:\n",
    "        print(i)\n"
   ]
  },
  {
   "cell_type": "code",
   "execution_count": 64,
   "metadata": {},
   "outputs": [
    {
     "name": "stdout",
     "output_type": "stream",
     "text": [
      "0\n",
      "1\n",
      "2\n"
     ]
    }
   ],
   "source": [
    "1//10\n",
    "i=0\n",
    "while i<3:\n",
    "    print(i)\n",
    "    i +=1"
   ]
  },
  {
   "cell_type": "markdown",
   "metadata": {},
   "source": [
    "#### WAP to find if the given number is a strong number. a number is called strong if the sum of factorial of its digits is equal to the number"
   ]
  },
  {
   "cell_type": "code",
   "execution_count": 73,
   "metadata": {},
   "outputs": [
    {
     "name": "stdout",
     "output_type": "stream",
     "text": [
      "enter the number: 145\n",
      "number is strong\n"
     ]
    }
   ],
   "source": [
    "def factorial(n):\n",
    "    fact=1\n",
    "    for i in range(1,n+1):\n",
    "        fact *= i\n",
    "    return fact\n",
    "def strong(n):\n",
    "    i=len(str(n))\n",
    "    sum=0\n",
    "    while i>0:\n",
    "        a=n%10\n",
    "        sum = sum+ factorial(a)\n",
    "        i = i-1\n",
    "        n=n//10\n",
    "    if b==sum:\n",
    "        return True\n",
    "    return False\n",
    "n=int(input('enter the number: '))\n",
    "b=n\n",
    "if strong(n)==True:\n",
    "    print('number is strong')\n",
    "else:\n",
    "    print('number is not strong')\n",
    "       "
   ]
  },
  {
   "cell_type": "markdown",
   "metadata": {},
   "source": [
    "#### python program to interchange first and last item of list "
   ]
  },
  {
   "cell_type": "code",
   "execution_count": 19,
   "metadata": {},
   "outputs": [
    {
     "name": "stdout",
     "output_type": "stream",
     "text": [
      "[24, 13, 10, 15, 12]\n",
      "[12, 15, 10, 13, 24]\n"
     ]
    }
   ],
   "source": [
    "lst=[12,13,10,15,24]\n",
    "lst1=lst[-1]\n",
    "lst2=lst[0]\n",
    "lst[0]=lst1\n",
    "lst[-1]=lst2\n",
    "print(lst)\n",
    "\n",
    "def swaplist(numberlist):\n",
    "    numberlist1=numberlist[-1]\n",
    "    numberlist[-1]=numberlist[0]\n",
    "    numberlist[0]=numberlist1\n",
    "    return numberlist\n",
    "print(swaplist([24,15,10,13,12]))"
   ]
  },
  {
   "cell_type": "code",
   "execution_count": 77,
   "metadata": {},
   "outputs": [
    {
     "data": {
      "text/plain": [
       "[15, 11, 9, 8, 3, 2]"
      ]
     },
     "execution_count": 77,
     "metadata": {},
     "output_type": "execute_result"
    }
   ],
   "source": [
    "a=[8,9,15,11,2,3]\n",
    "a.sort()\n",
    "a\n",
    "a1=a[: : -1]\n",
    "a\n",
    "a1"
   ]
  },
  {
   "cell_type": "markdown",
   "metadata": {},
   "source": [
    "# sorting algorithm"
   ]
  },
  {
   "cell_type": "code",
   "execution_count": 78,
   "metadata": {},
   "outputs": [
    {
     "name": "stdout",
     "output_type": "stream",
     "text": [
      "before sorting:  [8, 3, 7, 2, 5, 1]\n",
      "sorted list:  [1, 2, 3, 5, 7, 8]\n"
     ]
    }
   ],
   "source": [
    "a=[8,3,7,2,5,1]\n",
    "print('before sorting: ',a)\n",
    "for passno in range(1,len(a)):\n",
    "    for i in range(0,len(a)-passno):\n",
    "        if a[i]>a[i+1]:\n",
    "            a[i],a[i+1]=a[i+1],a[i]\n",
    "print('sorted list: ',a)"
   ]
  },
  {
   "cell_type": "markdown",
   "metadata": {},
   "source": [
    "## WAP to sort the given list consists of substrings based on their ASCII values "
   ]
  },
  {
   "cell_type": "code",
   "execution_count": 79,
   "metadata": {},
   "outputs": [
    {
     "name": "stdout",
     "output_type": "stream",
     "text": [
      "['apple', 'bag', 'forest', 'hai', 'yummy']\n"
     ]
    }
   ],
   "source": [
    "a=['hai','apple','yummy','forest','bag']\n",
    "for passno in range(1,len(a)):\n",
    "    for i in range(0,len(a)-passno):\n",
    "        if a[i]>a[i+1]:\n",
    "            a[i],a[i+1]=a[i+1],a[i]\n",
    "print(a)"
   ]
  },
  {
   "cell_type": "markdown",
   "metadata": {},
   "source": [
    "## WAP to sort the given list consists of substring based on their lengths"
   ]
  },
  {
   "cell_type": "code",
   "execution_count": 82,
   "metadata": {},
   "outputs": [
    {
     "name": "stdout",
     "output_type": "stream",
     "text": [
      "['by', 'hai', 'pink', 'class', 'program', 'collection']\n"
     ]
    }
   ],
   "source": [
    "a=['hai','program','pink','collection','by','class']\n",
    "for passno in range(1,len(a)):\n",
    "    for i in range(0,len(a)-passno):\n",
    "        if len(a[i])>len(a[i+1]):\n",
    "            a[i],a[i+1]=a[i+1],a[i]\n",
    "print(a)"
   ]
  },
  {
   "cell_type": "markdown",
   "metadata": {},
   "source": [
    "#### wap to create dictionary with n number of key value pairs "
   ]
  },
  {
   "cell_type": "code",
   "execution_count": 6,
   "metadata": {},
   "outputs": [
    {
     "name": "stdout",
     "output_type": "stream",
     "text": [
      "enter the val: 4\n",
      "enter the key: a\n",
      "enter the input val: 1\n",
      "enter the key: b\n",
      "enter the input val: 2\n",
      "enter the key: c\n",
      "enter the input val: 3\n",
      "enter the key: d\n",
      "enter the input val: 4\n",
      "{'a': 1, 'b': 2, 'c': 3, 'd': 4}\n"
     ]
    }
   ],
   "source": [
    "#dic={1:'hi',2:'how',3:'is',4:'this'}\n",
    "#print(dic)\n",
    "n=int(input('enter the val: '))\n",
    "res={ }\n",
    "for i in range(n):\n",
    "    key=input('enter the key: ')\n",
    "    val=int(input('enter the input val: '))\n",
    "    res[key]=val                                                     ##important syntax. used to store kay value pair in dictionary\n",
    "print(res)"
   ]
  },
  {
   "cell_type": "markdown",
   "metadata": {},
   "source": [
    "## WAP to sort the given dictionary based on ascii value of each and every key present inside a dict. (NOTE: Dictionary should have only string keys)"
   ]
  },
  {
   "cell_type": "code",
   "execution_count": 28,
   "metadata": {
    "scrolled": true
   },
   "outputs": [
    {
     "name": "stdout",
     "output_type": "stream",
     "text": [
      "hai\n",
      "ant\n",
      "young\n",
      "nest\n",
      "[('hai', 5), ('ant', 67), ('young', 69), ('nest', 45)]\n",
      "{'ant': 67, 'hai': 5, 'nest': 45, 'young': 69}\n"
     ]
    }
   ],
   "source": [
    "d={'hai':5,'ant':67,'young':69,'nest':45}\n",
    "res=[]\n",
    "for i in d:\n",
    "    print(i)     #this line will print the keys.  i will print keys\n",
    "    res += [(i,d[i])]      #  dictionary is converted into list\n",
    "print(res)\n",
    "for passno in range(1,len(res)):\n",
    "    for i in range(0,len(res)-passno):\n",
    "        if res[i][0]>res[i+1][0]:\n",
    "            res[i],res[i+1]=res[i+1],res[i]    #here we have used the sorting algorithm to sort the list\n",
    "print(dict(res))     # this line converts the above sorted list into dictionary"
   ]
  },
  {
   "cell_type": "markdown",
   "metadata": {},
   "source": [
    "####  wap to sort the dictionary based on its value"
   ]
  },
  {
   "cell_type": "code",
   "execution_count": 29,
   "metadata": {
    "scrolled": true
   },
   "outputs": [
    {
     "name": "stdout",
     "output_type": "stream",
     "text": [
      "hai\n",
      "ant\n",
      "young\n",
      "nest\n",
      "[('hai', 5), ('ant', 67), ('young', 69), ('nest', 45)]\n",
      "{'hai': 5, 'nest': 45, 'ant': 67, 'young': 69}\n"
     ]
    }
   ],
   "source": [
    "d={'hai':5,'ant':67,'young':69,'nest':45}\n",
    "res=[]\n",
    "for i in d:\n",
    "    print(i)     #this line will print the keys.  i will print keys\n",
    "    res += [(i,d[i])]      #  dictionary is converted into list\n",
    "print(res)\n",
    "for passno in range(1,len(res)):\n",
    "    for i in range(0,len(res)-passno):\n",
    "        if res[i][1]>res[i+1][1]:\n",
    "            res[i],res[i+1]=res[i+1],res[i]    #here we have used the sorting algorithm to sort the list\n",
    "print(dict(res))     # this line converts the above sorted list into dictionary"
   ]
  },
  {
   "cell_type": "markdown",
   "metadata": {},
   "source": [
    "####  wap to sort dictionary based on the length of keys present in it"
   ]
  },
  {
   "cell_type": "code",
   "execution_count": 31,
   "metadata": {},
   "outputs": [
    {
     "name": "stdout",
     "output_type": "stream",
     "text": [
      "[('hai', 5), ('ant', 67), ('young', 69), ('nest', 45)]\n",
      "{'hai': 5, 'ant': 67, 'nest': 45, 'young': 69}\n"
     ]
    }
   ],
   "source": [
    "d={'hai':5,'ant':67,'young':69,'nest':45}\n",
    "res=[]\n",
    "for i in d:\n",
    "    res += [(i,d[i])]\n",
    "print(res)\n",
    "for passno in range(1,len(res)):\n",
    "    for i in range(0,len(res)-passno):\n",
    "        if len(res[i][0])>len(res[i+1][0]):\n",
    "            res[i],res[i+1]=res[i+1],res[i]\n",
    "print(dict(res))"
   ]
  },
  {
   "cell_type": "markdown",
   "metadata": {},
   "source": [
    "#### wap to create dictionary where keys should be strings present in a given list and values should be there length"
   ]
  },
  {
   "cell_type": "code",
   "execution_count": 32,
   "metadata": {},
   "outputs": [
    {
     "name": "stdout",
     "output_type": "stream",
     "text": [
      "enter the dictionary length: 3\n",
      "enter the string/key: ab\n",
      "enter the string/key: abc\n",
      "enter the string/key: abcd\n",
      "{'ab': 2, 'abc': 3, 'abcd': 4}\n"
     ]
    }
   ],
   "source": [
    "a=int(input('enter the dictionary length: '))\n",
    "d={}\n",
    "for i in range(0,a):\n",
    "    k=input('enter the string/key: ')\n",
    "    v=len(k)\n",
    "    d[k]=v\n",
    "print(d)"
   ]
  },
  {
   "cell_type": "markdown",
   "metadata": {},
   "source": [
    "#### wap to extract only the string keys and its respective value from the dictionary"
   ]
  },
  {
   "cell_type": "code",
   "execution_count": 39,
   "metadata": {},
   "outputs": [
    {
     "name": "stdout",
     "output_type": "stream",
     "text": [
      "a 1\n",
      "hai hello\n",
      "{'a': 1, 'hai': 'hello'}\n",
      "a 1\n",
      "hai hello\n",
      "{'a': 1, 'hai': 'hello'}\n"
     ]
    }
   ],
   "source": [
    "a={'a':1, 34:5 , 'hai':'hello' , 3:4}\n",
    "res={}\n",
    "for i in a:\n",
    "    if type(i)==str:\n",
    "        print(i,a.get(i))\n",
    "#another way to do\n",
    "for i in a:\n",
    "    if type(i)==str:\n",
    "        res[i]=a[i]\n",
    "print(res)\n",
    "#another way without using type and using isinstance funciton\n",
    "d={}\n",
    "for i in a:\n",
    "    if isinstance(i,str):\n",
    "        print(i,a.get(i))\n",
    "        d[i]=a[i]\n",
    "print(d)"
   ]
  },
  {
   "cell_type": "markdown",
   "metadata": {},
   "source": [
    "#### wap to extract the key value pair from dictionary only if the value associated with key is of list type"
   ]
  },
  {
   "cell_type": "code",
   "execution_count": 44,
   "metadata": {},
   "outputs": [
    {
     "name": "stdout",
     "output_type": "stream",
     "text": [
      "{'a': [1, 2, 3, 4], 'c': [7, 8]}\n"
     ]
    }
   ],
   "source": [
    "a={'a':[1,2,3,4],'b':4,'c':[7,8]}\n",
    "res={}\n",
    "for i in a:\n",
    "    if type(a.get(i))==list:\n",
    "        res[i]=a[i]\n",
    "print(res)"
   ]
  },
  {
   "cell_type": "markdown",
   "metadata": {},
   "source": [
    "#### wap to extract key value pairs from the dict only if the key is of tuple type and length of key is greater or equal to 3"
   ]
  },
  {
   "cell_type": "code",
   "execution_count": 56,
   "metadata": {},
   "outputs": [
    {
     "name": "stdout",
     "output_type": "stream",
     "text": [
      "{(1, 2, 3, 4): 'a', (44, 55, 66, 88, 55, 77): 'c'}\n"
     ]
    }
   ],
   "source": [
    "a={(1,2,3,4):'a',(4,5):'b',(44,55,66,88,55,77):'c','1':'d'}\n",
    "res={}\n",
    "for i in a:\n",
    "    if len(i)>=3 and type(i)==tuple:\n",
    "        res[i]=a[i]\n",
    "print(res)"
   ]
  },
  {
   "cell_type": "markdown",
   "metadata": {},
   "source": [
    "#### wap to create dict from list input where the keys should be int vals present inside list and val should be the index of int value"
   ]
  },
  {
   "cell_type": "code",
   "execution_count": null,
   "metadata": {},
   "outputs": [],
   "source": []
  },
  {
   "cell_type": "code",
   "execution_count": null,
   "metadata": {},
   "outputs": [],
   "source": []
  },
  {
   "cell_type": "code",
   "execution_count": 51,
   "metadata": {},
   "outputs": [
    {
     "data": {
      "text/plain": [
       "3"
      ]
     },
     "execution_count": 51,
     "metadata": {},
     "output_type": "execute_result"
    }
   ],
   "source": [
    "a=(1,2,3)\n",
    "len(a)"
   ]
  },
  {
   "cell_type": "code",
   "execution_count": null,
   "metadata": {},
   "outputs": [],
   "source": []
  },
  {
   "cell_type": "code",
   "execution_count": null,
   "metadata": {},
   "outputs": [],
   "source": []
  },
  {
   "cell_type": "code",
   "execution_count": null,
   "metadata": {},
   "outputs": [],
   "source": []
  },
  {
   "cell_type": "code",
   "execution_count": 33,
   "metadata": {},
   "outputs": [
    {
     "data": {
      "text/plain": [
       "str"
      ]
     },
     "execution_count": 33,
     "metadata": {},
     "output_type": "execute_result"
    }
   ],
   "source": [
    "p='a'\n",
    "type(p)"
   ]
  },
  {
   "cell_type": "code",
   "execution_count": 13,
   "metadata": {},
   "outputs": [
    {
     "name": "stdout",
     "output_type": "stream",
     "text": [
      "[1, 2, 3, 5, 6, 8, 9]\n"
     ]
    }
   ],
   "source": [
    "a=[1,2,3,6,5,8,9]\n",
    "a.sort()\n",
    "print(a)\n"
   ]
  },
  {
   "cell_type": "code",
   "execution_count": null,
   "metadata": {},
   "outputs": [],
   "source": []
  },
  {
   "cell_type": "code",
   "execution_count": null,
   "metadata": {},
   "outputs": [],
   "source": []
  },
  {
   "cell_type": "code",
   "execution_count": null,
   "metadata": {},
   "outputs": [],
   "source": []
  }
 ],
 "metadata": {
  "kernelspec": {
   "display_name": "Python 3",
   "language": "python",
   "name": "python3"
  },
  "language_info": {
   "codemirror_mode": {
    "name": "ipython",
    "version": 3
   },
   "file_extension": ".py",
   "mimetype": "text/x-python",
   "name": "python",
   "nbconvert_exporter": "python",
   "pygments_lexer": "ipython3",
   "version": "3.8.8"
  }
 },
 "nbformat": 4,
 "nbformat_minor": 2
}
